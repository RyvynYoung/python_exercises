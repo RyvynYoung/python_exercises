{
 "cells": [
  {
   "cell_type": "code",
   "execution_count": null,
   "metadata": {},
   "outputs": [],
   "source": [
    "# Create a file named function_exercises.py for this exercise. After creating each function specified below, \n",
    "# write the necessary code in order to test your function."
   ]
  },
  {
   "cell_type": "code",
   "execution_count": 59,
   "metadata": {},
   "outputs": [
    {
     "name": "stdout",
     "output_type": "stream",
     "text": [
      "Passes all assertions\n"
     ]
    }
   ],
   "source": [
    "# 1. Define a function named is_two. It should accept one input and return True if the passed\n",
    "# input is either the number or the string 2, False otherwise.\n",
    "\n",
    "def is_two(n):\n",
    "    # as these are the only 2 acceptable values no other assertions are needed, any other value should return false\n",
    "    return n == 2 or n == '2'\n",
    "\n",
    "# assertion statements to test function\n",
    "assert is_two(2) == True\n",
    "assert is_two('2') == True\n",
    "assert is_two(4) == False\n",
    "assert is_two('five') == False\n",
    "assert type(is_two(2)) == bool #added during demo, but it passed without needing changes to function\n",
    "\n",
    "# visual confirmation to screen that all tests passed\n",
    "print(\"Passes all assertions\")"
   ]
  },
  {
   "cell_type": "code",
   "execution_count": 56,
   "metadata": {},
   "outputs": [
    {
     "name": "stdout",
     "output_type": "stream",
     "text": [
      "Passes all assertions\n"
     ]
    }
   ],
   "source": [
    "# 2. Define a function named is_vowel. It should return True if the passed string is a vowel, False otherwise.\n",
    "\n",
    "def is_vowel(v):\n",
    "    assert len(v) == 1, \"please input a single letter only\" # verifies input is single letter only\n",
    "    \n",
    "    vowel = ['a', 'e', 'i', 'o', 'u'] # list of vowels for comparison\n",
    "    \n",
    "# ensures input is in lower case then checks if input is in list above and returns true if in list, false if not in list\n",
    "    return v.lower() in vowel \n",
    "    \n",
    "# assertion statements to test function\n",
    "assert is_vowel('a') == True\n",
    "assert is_vowel('b') == False\n",
    "assert is_vowel('A') == True\n",
    "assert is_vowel('f') == False\n",
    "assert type(is_vowel('a')) == bool #added during demo, but it passed without needing changes to function\n",
    "\n",
    "# visual confirmation to screen that all tests passed\n",
    "print(\"Passes all assertions\")"
   ]
  },
  {
   "cell_type": "code",
   "execution_count": 61,
   "metadata": {},
   "outputs": [
    {
     "name": "stdout",
     "output_type": "stream",
     "text": [
      "Passes all assertions\n"
     ]
    }
   ],
   "source": [
    "# Define a function named is_consonant. It should return True if the passed string is a consonant, False otherwise. \n",
    "# Use your is_vowel function to accomplish this.\n",
    "\n",
    "def is_consonant(c):\n",
    "    # if is_vowel is false this is a consonant\n",
    "    return is_vowel(c) == False\n",
    "\n",
    "# assertion statements to test function\n",
    "assert is_consonant('a') == False\n",
    "assert is_consonant('b') == True\n",
    "assert is_consonant('D') == True\n",
    "assert is_consonant('I') == False\n",
    "assert type(is_two(2)) == bool #added during demo, but it passed without needing changes to function\n",
    "\n",
    "# visual confirmation to screen that all tests passed\n",
    "print(\"Passes all assertions\")"
   ]
  },
  {
   "cell_type": "code",
   "execution_count": 39,
   "metadata": {},
   "outputs": [
    {
     "name": "stdout",
     "output_type": "stream",
     "text": [
      "Passes all assertions\n"
     ]
    }
   ],
   "source": [
    "# 4. Define a function that accepts a string that is a word. The function should capitalize the first letter \n",
    "# of the word if the word starts with a consonant.\n",
    "\n",
    "def capitalize_word_if_consonant(w):\n",
    "    \n",
    "    # check if the first letter of the word is a consonant using is_consonant function\n",
    "    if is_consonant(w[0]) == True:\n",
    "        # if it is then capitalize the word\n",
    "        return w.capitalize()\n",
    "    else:\n",
    "        #if not return the word without change\n",
    "        return w\n",
    "\n",
    "# assertion statements to test function\n",
    "assert capitalize_word_if_consonant('hello') == 'Hello'\n",
    "assert capitalize_word_if_consonant('every') == 'every'\n",
    "assert capitalize_word_if_consonant('awesome') == 'awesome'\n",
    "assert capitalize_word_if_consonant('rest') == 'Rest'\n",
    "\n",
    "# visual confirmation to screen that all tests passed\n",
    "print(\"Passes all assertions\")"
   ]
  },
  {
   "cell_type": "code",
   "execution_count": 30,
   "metadata": {},
   "outputs": [
    {
     "name": "stdout",
     "output_type": "stream",
     "text": [
      "Passes all assertions\n"
     ]
    }
   ],
   "source": [
    "# 5. Define a function named calculate_tip. It should accept a tip percentage (a number between 0 and 1) \n",
    "# and the bill total, and return the amount to tip.\n",
    "\n",
    "def calculate_tip(t, b):\n",
    "    # assertion to verify input is either an in integer or float\n",
    "    assert type(b) == int or type(p) == float, \"Invalid Input\"\n",
    "    # assertion to verify input is a float\n",
    "    assert type(t) == float, \"Invalid Input\"\n",
    "    # return tip value rounded to 2 decimal places\n",
    "    return round((t * b), 2)\n",
    "\n",
    "# assertion statements to test function\n",
    "assert calculate_tip(.1, 10) == 1.00\n",
    "assert calculate_tip(.25, 100) == 25.00\n",
    "\n",
    "# visual confirmation to screen that all tests passed\n",
    "print(\"Passes all assertions\")"
   ]
  },
  {
   "cell_type": "code",
   "execution_count": 29,
   "metadata": {},
   "outputs": [
    {
     "name": "stdout",
     "output_type": "stream",
     "text": [
      "Passes all assertions\n"
     ]
    }
   ],
   "source": [
    "# 6. Define a function named apply_discount. It should accept a original price, and a discount percentage, \n",
    "# and return the price after the discount is applied.\n",
    "\n",
    "def apply_discount(p, d):\n",
    "    # assertion to verify input is either an in integer or float\n",
    "    assert type(p) == int or type(p) == float, \"Invalid Input\"\n",
    "    # assertion to verify input is a float\n",
    "    assert type(d) == float, \"Invalid Input\"\n",
    "    # calculate price after discount\n",
    "    disc_price = p - p * d\n",
    "    # return discounted price rounded to 2 decimal places\n",
    "    return round(disc_price, 2)\n",
    "\n",
    "# assertion statements to test function\n",
    "assert apply_discount(100, .1) == 90.00\n",
    "assert apply_discount(150, .25) == 112.50\n",
    "\n",
    "# visual confirmation to screen that all tests passed\n",
    "print(\"Passes all assertions\")"
   ]
  },
  {
   "cell_type": "code",
   "execution_count": 28,
   "metadata": {},
   "outputs": [
    {
     "name": "stdout",
     "output_type": "stream",
     "text": [
      "Passes all assertions\n"
     ]
    }
   ],
   "source": [
    "# 7. Define a function named handle_commas.\n",
    "# It should accept a string that is a number that contains commas in it as input, and return a number as output.\n",
    "\n",
    "def handle_commas(num):\n",
    "    # assertion to verfiy number is a string\n",
    "    assert type(num) == str, \"invalid input\"\n",
    "    # remove the comma\n",
    "    num = num.replace(\",\", \"\")    \n",
    "    # convert the number to a float, allows for decimals\n",
    "    num = float(num)\n",
    "    # return the number\n",
    "    return(num)\n",
    "\n",
    "# assertion statements to test function\n",
    "assert handle_commas('100,000') == 100_000\n",
    "assert handle_commas('1,000.75') == 1_000.75\n",
    "\n",
    "# visual confirmation to screen that all tests passed\n",
    "print(\"Passes all assertions\")"
   ]
  },
  {
   "cell_type": "code",
   "execution_count": 27,
   "metadata": {},
   "outputs": [
    {
     "name": "stdout",
     "output_type": "stream",
     "text": [
      "Passes all assertions\n"
     ]
    }
   ],
   "source": [
    "# 8. Define a function named get_letter_grade.\n",
    "# It should accept a number and return the letter grade associated with that number (A-F).\n",
    "\n",
    "def get_letter_grade(num):\n",
    "    # assertion to verify input is an integer\n",
    "    assert type(num) == int, \"invalid input\"\n",
    "    # if statements to find letter grade, only need minimum score because higher numbers will have already\n",
    "    # been assigned a letter\n",
    "    if num >= 88:\n",
    "        return(\"A\")\n",
    "    elif num >= 80:\n",
    "        return(\"B\")\n",
    "    elif num >= 67:\n",
    "        return(\"C\")\n",
    "    elif num >= 60:\n",
    "        return(\"D\")\n",
    "    else:\n",
    "        return(\"F\")\n",
    "\n",
    "# assertion statements to test function       \n",
    "assert get_letter_grade(92) == 'A'\n",
    "assert get_letter_grade(85) == 'B'\n",
    "assert get_letter_grade(68) == 'C'\n",
    "assert get_letter_grade(62) == 'D'\n",
    "assert get_letter_grade(43) == 'F'\n",
    "\n",
    "# visual confirmation to screen that all tests passed\n",
    "print(\"Passes all assertions\")"
   ]
  },
  {
   "cell_type": "code",
   "execution_count": 26,
   "metadata": {},
   "outputs": [
    {
     "name": "stdout",
     "output_type": "stream",
     "text": [
      "Passes all assertions\n"
     ]
    }
   ],
   "source": [
    "# 9.Define a function named remove_vowels that accepts a string and returns a string with all the vowels removed.\n",
    "\n",
    "# copied directly from 101 exercises to save time\n",
    "def remove_vowels(value):\n",
    "    vowel = ['a', 'e', 'i', 'o', 'u', 'A', 'E', 'I', 'O', 'U']\n",
    "    for i in value:\n",
    "        if i in vowel:\n",
    "            value = value.replace(i, \"\")\n",
    "    return(value)\n",
    "\n",
    "# assertion statements to test function   \n",
    "assert remove_vowels(\"banana\") == \"bnn\"\n",
    "assert remove_vowels(\"ubuntu\") == \"bnt\"\n",
    "assert remove_vowels(\"mango\") == \"mng\"\n",
    "assert remove_vowels(\"QQQQ\") == \"QQQQ\"\n",
    "\n",
    "# visual confirmation to screen that all tests passed\n",
    "print(\"Passes all assertions\")"
   ]
  },
  {
   "cell_type": "code",
   "execution_count": 1,
   "metadata": {},
   "outputs": [
    {
     "name": "stdout",
     "output_type": "stream",
     "text": [
      "Passes all assertions\n"
     ]
    }
   ],
   "source": [
    "# Define a function named normalize_name. It should accept a string and return a valid python identifier, that is:\n",
    "# anything that is not a valid python identifier should be removed \n",
    "# leading and trailing whitespace should be removed =.strip\n",
    "# everything should be lowercase =.lower\n",
    "# spaces should be replaced with underscores = .replace\n",
    "# for example:\n",
    "# Name will become name\n",
    "# First Name will become first_name\n",
    "# % Completed will become completed\n",
    "\n",
    "\n",
    "# see also notes below\n",
    "\n",
    "# modified removed vowels function to remove special characters instead\n",
    "def remove_spec_char(value):\n",
    "    spec_char = ['!', '@', '#', '$', '%', '^', '&', '*', '+', '-'] #list of characters to remove\n",
    "    # loop to check each character to see if it is a special character and remove as needed\n",
    "    for i in value:\n",
    "        if i in spec_char:\n",
    "            value = value.replace(i, \"\")\n",
    "    return(value)  # returns value for use in next function\n",
    "\n",
    "def normalize_name(value):\n",
    "    # verify input type is a string\n",
    "    assert type(value) == str\n",
    "    # change the string to lowercase\n",
    "    norm_name = value.lower()\n",
    "    # remove special characters using above function\n",
    "    norm_name = remove_spec_char(norm_name)\n",
    "    # remove leading and trailing white space\n",
    "    norm_name = norm_name.strip()\n",
    "    # replace spaces with underscore\n",
    "    norm_name = norm_name.replace(\" \", \"_\")\n",
    "    # return normalized name\n",
    "    return norm_name\n",
    "\n",
    "# assertion statements to test function \n",
    "assert normalize_name(\"Name\") == \"name\"\n",
    "assert normalize_name(\"First Name\") == \"first_name\"\n",
    "assert normalize_name(\"% completed\") == \"completed\"\n",
    "assert normalize_name(\"    $   Ryvyn Young    \") == \"ryvyn_young\"\n",
    "\n",
    "# visual confirmation to screen that all tests passed\n",
    "print(\"Passes all assertions\")\n",
    "\n",
    "\n",
    "# still stuck at time of review, not answered\n",
    "# got it working by copying my remove vowels function from 101 exercises and modifying list of characters\n",
    "# then used that function to remove special characters listed, but list is not all inclusive\n"
   ]
  },
  {
   "cell_type": "code",
   "execution_count": 78,
   "metadata": {},
   "outputs": [
    {
     "data": {
      "text/plain": [
       "True"
      ]
     },
     "execution_count": 78,
     "metadata": {},
     "output_type": "execute_result"
    }
   ],
   "source": [
    "# verfiy end result of normalize name above passes the isidentifier test\n",
    "\n",
    "normalize_name(\"    $   Ryvyn Young    \").isidentifier()\n"
   ]
  },
  {
   "cell_type": "code",
   "execution_count": 59,
   "metadata": {},
   "outputs": [
    {
     "name": "stdout",
     "output_type": "stream",
     "text": [
      "Passes all assertions\n"
     ]
    }
   ],
   "source": [
    "# 11. Write a function named cumulative_sum that accepts a list of numbers and returns a list that is \n",
    "# the cumulative sum of the numbers in the list.\n",
    "# cumulative_sum([1, 1, 1]) returns [1, 2, 3]\n",
    "# cumulative_sum([1, 2, 3, 4]) returns [1, 3, 6, 10]\n",
    "\n",
    "# completed before walk through\n",
    "\n",
    "def cumulative_sum(x):\n",
    "    sum_list = [] # set up an empty list for added values\n",
    "    y = 0   # set up an empty varible to hold sum\n",
    "    # for each number in the input list add value y is holding then add it to the sum_list\n",
    "    for n in x:\n",
    "        y = y + n\n",
    "        sum_list.append(y)\n",
    "    # return list of summed values\n",
    "    return sum_list\n",
    "\n",
    "# assertion statements to test function \n",
    "assert cumulative_sum([1, 1, 1]) == [1, 2, 3]\n",
    "assert cumulative_sum([1, 2, 3, 4]) == [1, 3, 6, 10]\n",
    "assert cumulative_sum([]) == [] # added during walk throu\n",
    "# visual confirmation to screen that all tests passed\n",
    "print(\"Passes all assertions\")"
   ]
  },
  {
   "cell_type": "code",
   "execution_count": 58,
   "metadata": {},
   "outputs": [
    {
     "data": {
      "text/plain": [
       "[]"
      ]
     },
     "execution_count": 58,
     "metadata": {},
     "output_type": "execute_result"
    }
   ],
   "source": []
  },
  {
   "cell_type": "code",
   "execution_count": 32,
   "metadata": {},
   "outputs": [
    {
     "name": "stdout",
     "output_type": "stream",
     "text": [
      "please enter time with am or pm\n",
      "Passes all assertions\n"
     ]
    }
   ],
   "source": [
    "# Bonus\n",
    "# 1. Create a function named twelveto24. It should accept a string in the format 10:45am or 4:30pm and return \n",
    "# a string that is the representation of the time in a 24-hour format. \n",
    "\n",
    "#completed before walk through \n",
    "\n",
    "def twelveto24(time):\n",
    "    # checks to see if input is am by looking for letter a in string, removes am if found\n",
    "    if \"a\" in time:\n",
    "        time = time.rstrip(\"am\")\n",
    "    # checks to see if input is pm by looking for letter p in string,\n",
    "    elif \"p\" in time:\n",
    "        # remove pm\n",
    "        time = time.rstrip(\"pm\")\n",
    "        # convert : to . so that can convert to float in next step\n",
    "        time = time.replace(\":\", \".\")\n",
    "        # convert to float so that can add 12 in next step, can't add integer 12 to string\n",
    "        time = float(time)\n",
    "        # add 12 hours to convert pm time to 24 hour\n",
    "        time = time + 12\n",
    "        # convert back to string for display purposes\n",
    "        time = str(time)\n",
    "        # convert . to : for display purposes\n",
    "        time = time.replace(\".\", \":\")\n",
    "    # handle time not input with am or pm\n",
    "    else:\n",
    "        print(\"please enter time with am or pm\")\n",
    "    # return time\n",
    "    return time\n",
    "\n",
    "# assertion statements to test function \n",
    "assert twelveto24(\"4:40am\") == \"4:40\"\n",
    "assert twelveto24(\"10:45am\") == \"10:45\"\n",
    "assert twelveto24(\"4:45pm\") == \"16:45\"\n",
    "assert twelveto24(\"10:45pm\") == \"22:45\"\n",
    "assert twelveto24(\"10:00\") == \"10:00\"\n",
    "\n",
    "# visual confirmation to screen that all tests passed\n",
    "print(\"Passes all assertions\")"
   ]
  },
  {
   "cell_type": "code",
   "execution_count": 60,
   "metadata": {},
   "outputs": [
    {
     "name": "stdout",
     "output_type": "stream",
     "text": [
      "Passes all assertions\n"
     ]
    }
   ],
   "source": [
    "# Bonus write a function that does the opposite.\n",
    "\n",
    "# completed before walk through\n",
    "\n",
    "def twentyfourto12(time):\n",
    "    # check input is a string\n",
    "    assert type(time) == str, \"please enter time as HH:MM\"\n",
    "    # would like to put assertions here to check 1st 2 digits are digits and last 2 are digits using isdigit?\n",
    "    # replace the : with . to allow for conversion to float in next step \n",
    "    time = time.replace(\":\", \".\")\n",
    "    # convert to float to allow for substrating\n",
    "    time = float(time)\n",
    "    # check to see if the time is less than 13:00, those will all be am times\n",
    "    if time < 13.00:\n",
    "        # convert input back to string for formating\n",
    "        time = str(time)\n",
    "        # replace : with .\n",
    "        time = time.replace(\".\", \":\")\n",
    "        # add am to end\n",
    "        time = time + \"am\"\n",
    "    # pm times need to have 12 hours subtracted\n",
    "    elif time >= 13.00:\n",
    "        # subtract 12 hours\n",
    "        time = time - 12\n",
    "        # round to 2 decimals before converting back to string\n",
    "        time = round(time, 2)\n",
    "        # convert to string for display formating\n",
    "        time = str(time)\n",
    "        # replace . with : for display\n",
    "        time = time.replace(\".\", \":\")\n",
    "        # add pm to end for display\n",
    "        time = time + \"pm\"\n",
    "    # handle inputs that have am or pm\n",
    "    else:\n",
    "        print(\"please enter time as HH:MM\")\n",
    "    # return time\n",
    "    return time\n",
    "\n",
    "# NOTE: this does not handle minutes ending in 0 ie. 4:40 will be 4:4am\n",
    "# alternative solution presented in demo using index position of digits would work better\n",
    "\n",
    "# assertion statements to test function\n",
    "assert twentyfourto12(\"4:45\") == \"4:45am\"\n",
    "assert twentyfourto12(\"10:45\") == \"10:45am\"\n",
    "assert twentyfourto12(\"16:42\") == \"4:42pm\"\n",
    "assert twentyfourto12(\"22:45\") == \"10:45pm\"\n",
    "\n",
    "# visual confirmation to screen that all tests passed\n",
    "print(\"Passes all assertions\")"
   ]
  },
  {
   "cell_type": "code",
   "execution_count": null,
   "metadata": {},
   "outputs": [],
   "source": [
    "# Bonus\n",
    "# 2. Create a function named col_index. It should accept a spreadsheet column name, and return the \n",
    "# index number of the column.\n",
    "# col_index('A') returns 1\n",
    "# col_index('B') returns 2\n",
    "# col_index('AA') returns 27\n",
    "\n",
    "# I have no idea where to start other than goggle. If time allows I'll return to this.\n",
    "# instead available time will first be used to annotate completed questions as required\n",
    "# reference Adam's presentaton/code for help"
   ]
  }
 ],
 "metadata": {
  "kernelspec": {
   "display_name": "Python 3",
   "language": "python",
   "name": "python3"
  },
  "language_info": {
   "codemirror_mode": {
    "name": "ipython",
    "version": 3
   },
   "file_extension": ".py",
   "mimetype": "text/x-python",
   "name": "python",
   "nbconvert_exporter": "python",
   "pygments_lexer": "ipython3",
   "version": "3.7.6"
  }
 },
 "nbformat": 4,
 "nbformat_minor": 4
}
