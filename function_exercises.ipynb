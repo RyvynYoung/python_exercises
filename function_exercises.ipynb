{
 "cells": [
  {
   "cell_type": "code",
   "execution_count": null,
   "metadata": {},
   "outputs": [],
   "source": [
    "# Create a file named function_exercises.py for this exercise. After creating each function specified below, \n",
    "# write the necessary code in order to test your function."
   ]
  },
  {
   "cell_type": "code",
   "execution_count": 36,
   "metadata": {},
   "outputs": [
    {
     "name": "stdout",
     "output_type": "stream",
     "text": [
      "Passes all assertions\n"
     ]
    }
   ],
   "source": [
    "# 1. Define a function named is_two. It should accept one input and return True if the passed\n",
    "# input is either the number or the string 2, False otherwise.\n",
    "\n",
    "def is_two(n):\n",
    "    return n == 2 or n == '2'\n",
    "\n",
    "assert is_two(2) == True\n",
    "assert is_two('2') == True\n",
    "assert is_two(4) == False\n",
    "assert is_two('five') == False\n",
    "print(\"Passes all assertions\")"
   ]
  },
  {
   "cell_type": "code",
   "execution_count": 37,
   "metadata": {},
   "outputs": [
    {
     "name": "stdout",
     "output_type": "stream",
     "text": [
      "Passes all assertions\n"
     ]
    }
   ],
   "source": [
    "# 2. Define a function named is_vowel. It should return True if the passed string is a vowel, False otherwise.\n",
    "\n",
    "def is_vowel(v):\n",
    "    vowel = ['a', 'e', 'i', 'o', 'u']\n",
    "    return v.lower() in vowel\n",
    "\n",
    "assert is_vowel('a') == True\n",
    "assert is_vowel('b') == False\n",
    "assert is_vowel('A') == True\n",
    "assert is_vowel('f') == False\n",
    "print(\"Passes all assertions\")"
   ]
  },
  {
   "cell_type": "code",
   "execution_count": 38,
   "metadata": {},
   "outputs": [
    {
     "name": "stdout",
     "output_type": "stream",
     "text": [
      "Passes all assertions\n"
     ]
    }
   ],
   "source": [
    "# Define a function named is_consonant. It should return True if the passed string is a consonant, False otherwise. \n",
    "# Use your is_vowel function to accomplish this.\n",
    "\n",
    "def is_consonant(c):\n",
    "    return is_vowel(c) == False\n",
    "\n",
    "assert is_consonant('a') == False\n",
    "assert is_consonant('b') == True\n",
    "assert is_consonant('D') == True\n",
    "assert is_consonant('I') == False\n",
    "print(\"Passes all assertions\")"
   ]
  },
  {
   "cell_type": "code",
   "execution_count": 39,
   "metadata": {},
   "outputs": [
    {
     "name": "stdout",
     "output_type": "stream",
     "text": [
      "Passes all assertions\n"
     ]
    }
   ],
   "source": [
    "# 4. Define a function that accepts a string that is a word. The function should capitalize the first letter \n",
    "# of the word if the word starts with a consonant.\n",
    "\n",
    "def capitalize_word_if_consonant(w):\n",
    "    if is_consonant(w[0]) == True:\n",
    "        return w.capitalize()\n",
    "    else:\n",
    "        return w\n",
    "\n",
    "assert capitalize_word_if_consonant('hello') == 'Hello'\n",
    "assert capitalize_word_if_consonant('every') == 'every'\n",
    "assert capitalize_word_if_consonant('awesome') == 'awesome'\n",
    "assert capitalize_word_if_consonant('rest') == 'Rest'\n",
    "print(\"Passes all assertions\")"
   ]
  },
  {
   "cell_type": "code",
   "execution_count": 30,
   "metadata": {},
   "outputs": [
    {
     "name": "stdout",
     "output_type": "stream",
     "text": [
      "Passes all assertions\n"
     ]
    }
   ],
   "source": [
    "# 5. Define a function named calculate_tip. It should accept a tip percentage (a number between 0 and 1) \n",
    "# and the bill total, and return the amount to tip.\n",
    "\n",
    "def calculate_tip(t, b):\n",
    "    assert type(b) == int or type(p) == float, \"Invalid Input\"\n",
    "    assert type(t) == float, \"Invalid Input\"\n",
    "    return round((t * b), 2)\n",
    "\n",
    "assert calculate_tip(.1, 10) == 1.00\n",
    "assert calculate_tip(.25, 100) == 25.00\n",
    "print(\"Passes all assertions\")"
   ]
  },
  {
   "cell_type": "code",
   "execution_count": 29,
   "metadata": {},
   "outputs": [
    {
     "name": "stdout",
     "output_type": "stream",
     "text": [
      "Passes all assertions\n"
     ]
    }
   ],
   "source": [
    "# 6. Define a function named apply_discount. It should accept a original price, and a discount percentage, \n",
    "# and return the price after the discount is applied.\n",
    "\n",
    "def apply_discount(p, d):\n",
    "    assert type(p) == int or type(p) == float, \"Invalid Input\"\n",
    "    assert type(d) == float, \"Invalid Input\"\n",
    "    disc_price = p - p * d\n",
    "    return round(disc_price, 2)\n",
    "\n",
    "assert apply_discount(100, .1) == 90.00\n",
    "assert apply_discount(150, .25) == 112.50\n",
    "print(\"Passes all assertions\")"
   ]
  },
  {
   "cell_type": "code",
   "execution_count": 28,
   "metadata": {},
   "outputs": [
    {
     "name": "stdout",
     "output_type": "stream",
     "text": [
      "Passes all assertions\n"
     ]
    }
   ],
   "source": [
    "# 7. Define a function named handle_commas.\n",
    "# It should accept a string that is a number that contains commas in it as input, and return a number as output.\n",
    "\n",
    "def handle_commas(num):\n",
    "    assert type(num) == str, \"invalid input\"\n",
    "    num = num.replace(\",\", \"\")    \n",
    "    num = float(num)\n",
    "    return(num)\n",
    "\n",
    "assert handle_commas('100,000') == 100_000\n",
    "assert handle_commas('1,000.75') == 1_000.75\n",
    "print(\"Passes all assertions\")"
   ]
  },
  {
   "cell_type": "code",
   "execution_count": 27,
   "metadata": {},
   "outputs": [
    {
     "name": "stdout",
     "output_type": "stream",
     "text": [
      "Passes all assertions\n"
     ]
    }
   ],
   "source": [
    "# 8. Define a function named get_letter_grade.\n",
    "# It should accept a number and return the letter grade associated with that number (A-F).\n",
    "\n",
    "def get_letter_grade(num):\n",
    "    assert type(num) == int, \"invalid input\"\n",
    "    if num >= 88:\n",
    "        return(\"A\")\n",
    "    elif num >= 80:\n",
    "        return(\"B\")\n",
    "    elif num >= 67:\n",
    "        return(\"C\")\n",
    "    elif num >= 60:\n",
    "        return(\"D\")\n",
    "    else:\n",
    "        return(\"F\")\n",
    "        \n",
    "assert get_letter_grade(92) == 'A'\n",
    "assert get_letter_grade(85) == 'B'\n",
    "assert get_letter_grade(68) == 'C'\n",
    "assert get_letter_grade(62) == 'D'\n",
    "assert get_letter_grade(43) == 'F'\n",
    "print(\"Passes all assertions\")"
   ]
  },
  {
   "cell_type": "code",
   "execution_count": 26,
   "metadata": {},
   "outputs": [
    {
     "name": "stdout",
     "output_type": "stream",
     "text": [
      "Passes all assertions\n"
     ]
    }
   ],
   "source": [
    "# 9.Define a function named remove_vowels that accepts a string and returns a string with all the vowels removed.\n",
    "\n",
    "def remove_vowels(value):\n",
    "    vowel = ['a', 'e', 'i', 'o', 'u', 'A', 'E', 'I', 'O', 'U']\n",
    "    for i in value:\n",
    "        if i in vowel:\n",
    "            value = value.replace(i, \"\")\n",
    "    return(value)\n",
    "\n",
    "assert remove_vowels(\"banana\") == \"bnn\"\n",
    "assert remove_vowels(\"ubuntu\") == \"bnt\"\n",
    "assert remove_vowels(\"mango\") == \"mng\"\n",
    "assert remove_vowels(\"QQQQ\") == \"QQQQ\"\n",
    "print(\"Passes all assertions\")"
   ]
  },
  {
   "cell_type": "code",
   "execution_count": null,
   "metadata": {},
   "outputs": [],
   "source": [
    "# Define a function named normalize_name. It should accept a string and return a valid python identifier, that is:\n",
    "# anything that is not a valid python identifier should be removed \n",
    "# leading and trailing whitespace should be removed =.strip\n",
    "# everything should be lowercase =.lower\n",
    "# spaces should be replaced with underscores = .replace\n",
    "# for example:\n",
    "# Name will become name\n",
    "# First Name will become first_name\n",
    "# % Completed will become completed\n",
    "\n",
    "def normalize_name(vale):\n",
    "    assert type(value) == str\n",
    "    \"v\"."
   ]
  }
 ],
 "metadata": {
  "kernelspec": {
   "display_name": "Python 3",
   "language": "python",
   "name": "python3"
  },
  "language_info": {
   "codemirror_mode": {
    "name": "ipython",
    "version": 3
   },
   "file_extension": ".py",
   "mimetype": "text/x-python",
   "name": "python",
   "nbconvert_exporter": "python",
   "pygments_lexer": "ipython3",
   "version": "3.7.6"
  }
 },
 "nbformat": 4,
 "nbformat_minor": 4
}
