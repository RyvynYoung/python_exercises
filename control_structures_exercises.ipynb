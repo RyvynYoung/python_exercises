{
 "cells": [
  {
   "cell_type": "code",
   "execution_count": 5,
   "metadata": {},
   "outputs": [
    {
     "name": "stdout",
     "output_type": "stream",
     "text": [
      "What day is it? MONDAY\n",
      "Today is Monday\n"
     ]
    }
   ],
   "source": [
    "# 1. Conditional Basic a. prompt the user for a day of the week, print out whether the day is Monday or not\n",
    "\n",
    "day = input('What day is it? ')\n",
    "day = day.lower()\n",
    "if day == 'monday':\n",
    "    print('Today is Monday')\n",
    "else:\n",
    "    print('not Monday')"
   ]
  },
  {
   "cell_type": "code",
   "execution_count": 8,
   "metadata": {},
   "outputs": [
    {
     "name": "stdout",
     "output_type": "stream",
     "text": [
      "What day is it? sunday\n",
      "It's the weekend!!\n"
     ]
    }
   ],
   "source": [
    "# 1. b. prompt the user for a day of the week, print out whether the day is a weekday or a weekend\n",
    "\n",
    "day = input('What day is it? ')\n",
    "day = day.lower()\n",
    "if day == 'saturday' or day == 'sunday':\n",
    "    print(\"It's the weekend!!\")\n",
    "else:\n",
    "    print('Today is a weekday')"
   ]
  },
  {
   "cell_type": "code",
   "execution_count": 19,
   "metadata": {},
   "outputs": [
    {
     "name": "stdout",
     "output_type": "stream",
     "text": [
      "$415.00\n"
     ]
    }
   ],
   "source": [
    "# 1. c. create variables and make up values for: the number of hours worked in one week, the hourly rate, \n",
    "# how much the week's paycheck will be\n",
    "# write the python code that calculates the weekly paycheck. \n",
    "#You get paid time and a half if you work more than 40 hours\n",
    "\n",
    "hours = 41\n",
    "OT_hours = 0\n",
    "rate = 10\n",
    "OT_rate = rate * 1.5\n",
    "weekly_pay = 0\n",
    "\n",
    "if hours >= 40:\n",
    "    OT_hours = hours - 40\n",
    "    hours = 40\n",
    "    \n",
    "weekly_pay = \"${:,.2f}\".format(hours * rate + OT_hours * OT_rate)\n",
    "print(weekly_pay)\n"
   ]
  },
  {
   "cell_type": "code",
   "execution_count": 20,
   "metadata": {},
   "outputs": [
    {
     "name": "stdout",
     "output_type": "stream",
     "text": [
      "5\n",
      "6\n",
      "7\n",
      "8\n",
      "9\n",
      "10\n",
      "11\n",
      "12\n",
      "13\n",
      "14\n",
      "15\n"
     ]
    }
   ],
   "source": [
    "# 2. Loop Basics a. While\n",
    "# - Create an integer variable i with a value of 5.\n",
    "# - Create a while loop that runs so long as i is less than or equal to 15\n",
    "# - Each loop iteration, output the current value of i, then increment i by one.\n",
    "# - Your output should look like this:\n",
    "# 5\n",
    "# 6\n",
    "# 7\n",
    "# 8\n",
    "# 9\n",
    "# 10\n",
    "# 11\n",
    "# 12\n",
    "# 13\n",
    "# 14\n",
    "# 15\n",
    "\n",
    "i = 5\n",
    "while i <= 15:\n",
    "    print(i)\n",
    "    i += 1"
   ]
  },
  {
   "cell_type": "code",
   "execution_count": 22,
   "metadata": {},
   "outputs": [
    {
     "name": "stdout",
     "output_type": "stream",
     "text": [
      "2\n",
      "4\n",
      "6\n",
      "8\n",
      "10\n",
      "12\n",
      "14\n",
      "16\n",
      "18\n",
      "20\n",
      "22\n",
      "24\n",
      "26\n",
      "28\n",
      "30\n",
      "32\n",
      "34\n",
      "36\n",
      "38\n",
      "40\n",
      "42\n",
      "44\n",
      "46\n",
      "48\n",
      "50\n",
      "52\n",
      "54\n",
      "56\n",
      "58\n",
      "60\n",
      "62\n",
      "64\n",
      "66\n",
      "68\n",
      "70\n",
      "72\n",
      "74\n",
      "76\n",
      "78\n",
      "80\n",
      "82\n",
      "84\n",
      "86\n",
      "88\n",
      "90\n",
      "92\n",
      "94\n",
      "96\n",
      "98\n",
      "100\n"
     ]
    }
   ],
   "source": [
    "# 2. a. Create a while loop that will count by 2's starting with 0 and ending at 100. \n",
    "i = 2\n",
    "while i <= 100:\n",
    "    print(i)\n",
    "    i += 2"
   ]
  },
  {
   "cell_type": "code",
   "execution_count": 23,
   "metadata": {},
   "outputs": [
    {
     "name": "stdout",
     "output_type": "stream",
     "text": [
      "100\n",
      "95\n",
      "90\n",
      "85\n",
      "80\n",
      "75\n",
      "70\n",
      "65\n",
      "60\n",
      "55\n",
      "50\n",
      "45\n",
      "40\n",
      "35\n",
      "30\n",
      "25\n",
      "20\n",
      "15\n",
      "10\n",
      "5\n",
      "0\n",
      "-5\n",
      "-10\n"
     ]
    }
   ],
   "source": [
    "# 2. a. Alter your loop to count backwards by 5's from 100 to -10.\n",
    "i = 100\n",
    "while i >= -10:\n",
    "    print(i)\n",
    "    i -= 5"
   ]
  },
  {
   "cell_type": "code",
   "execution_count": 24,
   "metadata": {},
   "outputs": [
    {
     "name": "stdout",
     "output_type": "stream",
     "text": [
      "2\n",
      "4\n",
      "16\n",
      "256\n",
      "65536\n"
     ]
    }
   ],
   "source": [
    "# 2. a. Ceate a while loop that starts at 2, and displays the number squared on each line while the \n",
    "# number is less than 1,000,000. Output should equal:\n",
    "#  2\n",
    "#  4\n",
    "#  16\n",
    "#  256\n",
    "#  65536\n",
    "\n",
    "i = 2\n",
    "while i < 100000:\n",
    "    print(i)\n",
    "    i = i ** 2\n"
   ]
  },
  {
   "cell_type": "code",
   "execution_count": null,
   "metadata": {},
   "outputs": [],
   "source": [
    "# 2. a. Write a loop that uses print to create the output shown below.\n",
    "# 100\n",
    "# 95\n",
    "# 90\n",
    "# 85\n",
    "# 80\n",
    "# 75\n",
    "# 70\n",
    "# 65\n",
    "# 60\n",
    "# 55\n",
    "# 50\n",
    "# 45\n",
    "# 40\n",
    "# 35\n",
    "# 30\n",
    "# 25\n",
    "# 20\n",
    "# 15\n",
    "# 10\n",
    "# 5"
   ]
  },
  {
   "cell_type": "code",
   "execution_count": null,
   "metadata": {},
   "outputs": [],
   "source": [
    "# 2. b. For Loops\n",
    "\n",
    "# Write some code that prompts the user for a number, then shows a multiplication table up through 10 for that number.\n",
    "\n",
    "# For example, if the user enters 7, your program should output:\n",
    "\n",
    "\n",
    "# 7 x 1 = 7\n",
    "# 7 x 2 = 14\n",
    "# 7 x 3 = 21\n",
    "# 7 x 4 = 28\n",
    "# 7 x 5 = 35\n",
    "# 7 x 6 = 42\n",
    "# 7 x 7 = 49\n",
    "# 7 x 8 = 56\n",
    "# 7 x 9 = 63\n",
    "# 7 x 10 = 70\n",
    "# Create a for loop that uses print to create the output shown below.\n",
    "\n",
    "\n",
    "# 1\n",
    "# 22\n",
    "# 333\n",
    "# 4444\n",
    "# 55555\n",
    "# 666666\n",
    "# 7777777\n",
    "# 88888888\n",
    "# 999999999\n",
    "# break and continue\n",
    "\n",
    "# Prompt the user for an odd number between 1 and 50. Use a loop and a break statement to continue prompting the user if they enter invalid input. (Hint: use the isdigit method on strings to determine this). Use a loop and the continue statement to output all the odd numbers between 1 and 50, except for the number the user entered.\n",
    "\n",
    "# Your output should look like this:\n",
    "\n",
    "\n",
    "# Number to skip is: 27\n",
    "\n",
    "# Here is an odd number: 1\n",
    "# Here is an odd number: 3\n",
    "# Here is an odd number: 5\n",
    "# Here is an odd number: 7\n",
    "# Here is an odd number: 9\n",
    "# Here is an odd number: 11\n",
    "# Here is an odd number: 13\n",
    "# Here is an odd number: 15\n",
    "# Here is an odd number: 17\n",
    "# Here is an odd number: 19\n",
    "# Here is an odd number: 21\n",
    "# Here is an odd number: 23\n",
    "# Here is an odd number: 25\n",
    "# Yikes! Skipping number: 27\n",
    "# Here is an odd number: 29\n",
    "# Here is an odd number: 31\n",
    "# Here is an odd number: 33\n",
    "# Here is an odd number: 35\n",
    "# Here is an odd number: 37\n",
    "# Here is an odd number: 39\n",
    "# Here is an odd number: 41\n",
    "# Here is an odd number: 43\n",
    "# Here is an odd number: 45\n",
    "# Here is an odd number: 47\n",
    "# Here is an odd number: 49\n",
    "# The input function can be used to prompt for input and use that input in your python code. Prompt the user to enter a positive number and write a loop that counts from 0 to that number. (Hints: first make sure that the value the user entered is a valid number, also note that the input function returns a string, so you'll need to convert this to a numeric type.)\n",
    "\n",
    "# Write a program that prompts the user for a positive integer. Next write a loop that prints out the numbers from the number the user entered down to 1.\n",
    "\n",
    "\n",
    "\n"
   ]
  },
  {
   "cell_type": "code",
   "execution_count": null,
   "metadata": {},
   "outputs": [],
   "source": []
  },
  {
   "cell_type": "code",
   "execution_count": null,
   "metadata": {},
   "outputs": [],
   "source": [
    "3. Fizzbuzz\n",
    "\n",
    "One of the most common interview questions for entry-level programmers is the FizzBuzz test. Developed by Imran Ghory, the test is designed to test basic looping and conditional logic skills.\n",
    "\n",
    "Write a program that prints the numbers from 1 to 100.\n",
    "For multiples of three print \"Fizz\" instead of the number\n",
    "For the multiples of five print \"Buzz\".\n",
    "For numbers which are multiples of both three and five print \"FizzBuzz\"."
   ]
  },
  {
   "cell_type": "code",
   "execution_count": null,
   "metadata": {},
   "outputs": [],
   "source": []
  },
  {
   "cell_type": "code",
   "execution_count": null,
   "metadata": {},
   "outputs": [],
   "source": [
    "4. Display a table of powers.\n",
    "\n",
    "Prompt the user to enter an integer.\n",
    "Display a table of squares and cubes from 1 to the value entered.\n",
    "Ask if the user wants to continue.\n",
    "Assume that the user will enter valid data.\n",
    "Only continue if the user agrees to.\n",
    "Example Output\n",
    "\n",
    "What number would you like to go up to? 5\n",
    "\n",
    "Here is your table!\n",
    "\n",
    "number | squared | cubed\n",
    "------ | ------- | -----\n",
    "1      | 1       | 1\n",
    "2      | 4       | 8\n",
    "3      | 9       | 27\n",
    "4      | 16      | 64\n",
    "5      | 25      | 125\n",
    "\n",
    "Bonus: Research python's format string specifiers to align the table"
   ]
  },
  {
   "cell_type": "code",
   "execution_count": null,
   "metadata": {},
   "outputs": [],
   "source": []
  },
  {
   "cell_type": "code",
   "execution_count": null,
   "metadata": {},
   "outputs": [],
   "source": [
    "5. Convert given number grades into letter grades.\n",
    "\n",
    "Prompt the user for a numerical grade from 0 to 100.\n",
    "Display the corresponding letter grade.\n",
    "Prompt the user to continue.\n",
    "Assume that the user will enter valid integers for the grades.\n",
    "The application should only continue if the user agrees to.\n",
    "Grade Ranges:\n",
    "\n",
    "A : 100 - 88\n",
    "B : 87 - 80\n",
    "C : 79 - 67\n",
    "D : 66 - 60\n",
    "F : 59 - 0\n",
    "Bonus\n",
    "\n",
    "Edit your grade ranges to include pluses and minuses (ex: 99-100 = A+)."
   ]
  },
  {
   "cell_type": "code",
   "execution_count": null,
   "metadata": {},
   "outputs": [],
   "source": []
  },
  {
   "cell_type": "code",
   "execution_count": null,
   "metadata": {},
   "outputs": [],
   "source": [
    "6. Create a list of dictionaries where each dictionary represents a book that you have read. Each dictionary in the list should have the keys title, author, and genre. Loop through the list and print out information about each book.\n",
    "\n",
    "Prompt the user to enter a genre, then loop through your books list and print out the titles of all the books in that genre."
   ]
  },
  {
   "cell_type": "code",
   "execution_count": null,
   "metadata": {},
   "outputs": [],
   "source": []
  },
  {
   "cell_type": "code",
   "execution_count": null,
   "metadata": {},
   "outputs": [],
   "source": []
  }
 ],
 "metadata": {
  "kernelspec": {
   "display_name": "Python 3",
   "language": "python",
   "name": "python3"
  },
  "language_info": {
   "codemirror_mode": {
    "name": "ipython",
    "version": 3
   },
   "file_extension": ".py",
   "mimetype": "text/x-python",
   "name": "python",
   "nbconvert_exporter": "python",
   "pygments_lexer": "ipython3",
   "version": "3.7.6"
  }
 },
 "nbformat": 4,
 "nbformat_minor": 4
}
